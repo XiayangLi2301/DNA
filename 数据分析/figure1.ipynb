{
 "cells": [
  {
   "cell_type": "code",
   "execution_count": 25,
   "metadata": {},
   "outputs": [],
   "source": [
    "import matplotlib.pyplot as plt\n",
    "from matplotlib.pyplot import MultipleLocator\n",
    "import numpy as np\n",
    "plt.style.use('seaborn-muted')"
   ]
  },
  {
   "cell_type": "code",
   "execution_count": 26,
   "metadata": {},
   "outputs": [],
   "source": [
    "%matplotlib inline"
   ]
  },
  {
   "cell_type": "code",
   "execution_count": 27,
   "metadata": {},
   "outputs": [
    {
     "data": {
      "image/png": "[encoded data removed]",
      "text/plain": [
       "<Figure size 432x288 with 1 Axes>"
      ]
     },
     "metadata": {
      "needs_background": "light"
     },
     "output_type": "display_data"
    }
   ],
   "source": [
    "plt.tick_params(axis='both',which='major',labelsize=14)\n",
    "x = np.linspace(1,10,2000)\n",
    "#从1到10随机产生200个值\n",
    "y2 = 1 - (1-2*x*10**(-3))**(24)*(25-24*(1-2*x*10**(-3)))\n",
    "x4 = np.linspace(1,10,10)\n",
    "y5 = 1 - (1-2*x4*10**(-3))**(24)*(25-24*(1-2*x4*10**(-3)))\n",
    "x3 = []\n",
    "for i in range(10):\n",
    "    x3.append((i+1))\n",
    "x3 = np.array(x3)\n",
    "y3 = [0.00005,0.0004,0.001066667,0.001366667,0.00245,0.004370833,0.005796667,0.007309167,0.008688333,0.011523889]\n",
    "def f_fit(x,y_fit):\n",
    "    a,b,c=y_fit.tolist()\n",
    "    return a*x**2+b*x+c\n",
    "y_fit=np.polyfit(x3,y3,2)\n",
    "y4 = f_fit(x3,y_fit)\n",
    "#plt.tick_params 参数及其用法\n",
    "#axis 参数axis的值为'x','y','both',分别代表设置x轴,y轴或同时设置,默认值为both\n",
    "#which 的值为'major','minor','both',分别代表设置主刻度线,副刻度线,或同时设置\n",
    "#direction 的值为'in','out','inout',分别代表刻度线显示在内测,外侧,或·同时显示.\n",
    "#labelsize 设置为标签的大小\n",
    "plt.xlabel('$P_d = P_i(\\\\times 10^{-3}),P_s = 0$',fontsize = 9)\n",
    "#设置x轴标签的名称,以及字体的大小\n",
    "plt.ylabel('Block Error Rate',fontsize = 9)\n",
    "#设置y轴标签的名称,以及字体的大小\n",
    "ax = plt.gca()\n",
    "x_major_locator = MultipleLocator(1)\n",
    "y_major_locator = MultipleLocator(4*10**(-2))\n",
    "ax.xaxis.set_major_locator(x_major_locator)\n",
    "ax.yaxis.set_major_locator(y_major_locator)\n",
    "\n",
    "#设置坐标刻度值的大小以及刻度值的字体\n",
    "plt.tick_params(labelsize=9)\n",
    "plt.xlim(1,10)\n",
    "#设置x轴范围\n",
    "plt.ylim(0,0.4)\n",
    "#设置y周范围\n",
    "l2, = plt.plot(x,y2)\n",
    "l3, = plt.plot(x3,y4)\n",
    "plt.legend(handles = [l2,l3] ,labels = ['DNA-XL','DNA-LC'],loc = 'best')\n",
    "plt.scatter(x4,y5,c = 'r',s = 10)\n",
    "plt.scatter(x3,y3,c = 'r',s = 10)\n",
    "plt.title('message = 33bits')\n",
    "\n",
    "\n",
    "plt.savefig('plot123_2.png', dpi=1000)\n",
    "# 'best'：自动选择最佳位置。\n",
    "\n",
    "# 'upper right'：将图例放在右上角。\n",
    "\n",
    "# 'upper left'：将图例放在左上角。\n",
    "\n",
    "# 'lower left'：将图例放在左下角。\n",
    "\n",
    "# 'lower right'：将图例放在右下角。\n",
    "\n",
    "# 'right'：将图例放在右边。\n",
    "\n",
    "# 'center left'：将图例放在左边居中的位置。\n",
    "\n",
    "# 'center right'：将图例放在右边居中的位置。\n",
    "\n",
    "# 'lower center'：将图例放在底部居中的位置。\n",
    "\n",
    "# 'upper center'：将图例放在顶部居中的位置。\n",
    "\n",
    "# 'center'：将图例放在中心\n",
    "plt.show()"
   ]
  },
  {
   "cell_type": "code",
   "execution_count": 4,
   "metadata": {},
   "outputs": [
    {
     "name": "stdout",
     "output_type": "stream",
     "text": [
      "['Solarize_Light2', '_classic_test_patch', 'bmh', 'classic', 'dark_background', 'fast', 'fivethirtyeight', 'ggplot', 'grayscale', 'seaborn', 'seaborn-bright', 'seaborn-colorblind', 'seaborn-dark', 'seaborn-dark-palette', 'seaborn-darkgrid', 'seaborn-deep', 'seaborn-muted', 'seaborn-notebook', 'seaborn-paper', 'seaborn-pastel', 'seaborn-poster', 'seaborn-talk', 'seaborn-ticks', 'seaborn-white', 'seaborn-whitegrid', 'tableau-colorblind10']\n"
     ]
    }
   ],
   "source": [
    "\n",
    "print(plt.style.available)"
   ]
  },
  {
   "cell_type": "code",
   "execution_count": null,
   "metadata": {},
   "outputs": [],
   "source": []
  }
 ],
 "metadata": {
  "kernelspec": {
   "display_name": "Python 3.9.7 ('base')",
   "language": "python",
   "name": "python3"
  },
  "language_info": {
   "codemirror_mode": {
    "name": "ipython",
    "version": 3
   },
   "file_extension": ".py",
   "mimetype": "text/x-python",
   "name": "python",
   "nbconvert_exporter": "python",
   "pygments_lexer": "ipython3",
   "version": "3.9.7"
  },
  "orig_nbformat": 4,
  "vscode": {
   "interpreter": {
    "hash": "88279d2366fe020547cde40dd65aa0e3aa662a6ec1f3ca12d88834876c85e1a6"
   }
  }
 },
 "nbformat": 4,
 "nbformat_minor": 2
}
